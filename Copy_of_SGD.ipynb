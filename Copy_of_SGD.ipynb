{
  "nbformat": 4,
  "nbformat_minor": 0,
  "metadata": {
    "colab": {
      "name": "Copy of SGD.ipynb",
      "provenance": [],
      "collapsed_sections": [],
      "authorship_tag": "ABX9TyN+734KxkqrayzpT/YkKKvo",
      "include_colab_link": true
    },
    "kernelspec": {
      "name": "python3",
      "display_name": "Python 3"
    },
    "language_info": {
      "name": "python"
    }
  },
  "cells": [
    {
      "cell_type": "markdown",
      "metadata": {
        "id": "view-in-github",
        "colab_type": "text"
      },
      "source": [
        "<a href=\"https://colab.research.google.com/github/swan343/bin1/blob/main/Copy_of_SGD.ipynb\" target=\"_parent\"><img src=\"https://colab.research.google.com/assets/colab-badge.svg\" alt=\"Open In Colab\"/></a>"
      ]
    },
    {
      "cell_type": "markdown",
      "source": [
        "Essence of ML/SGD: \n",
        "for an unknown function f(x):\n",
        "1. define an approximation function y(x):\n",
        "for example y = ax + b, parameters = a and b\n",
        "2. initialize parameters as tensors that calculates gradients\n",
        "3. use an assessment (loss) function to see how far off is the approximation function to the data\n",
        "4. calculate the parameters' gradient from that loss function \n",
        "5. adjust parameters\n",
        "5. repeat 4-5\n",
        "\n",
        "stochastic gradient descent:\n",
        "\n",
        "stochastic: random\n",
        "\n",
        "gradient: step 4\n",
        "\n",
        "descent: step 5"
      ],
      "metadata": {
        "id": "Dn5jr42O67Ed"
      }
    },
    {
      "cell_type": "markdown",
      "source": [
        "in pytorch's terms:\n",
        "1. define an approxiamtion function as \n",
        "def f(x):\n",
        "2. initialize parameters as tensors that calculates gradients as \n",
        "params = tensors([a,b,c,...]).requires_gradient_()\n",
        "3. use an assessment (loss) function to see how far off is the approximation function to the data as \n",
        "def loss_func(y1, y2):\n",
        "4. calculate the parameters' gradient from that loss function as \n",
        "loss = loss_func(f(x), data)\n",
        "loss.backwards()\n",
        "params.grad\n",
        "5. adjust params according to gradients as \n",
        "params.data -= params.gradient * some_rate\n",
        "params.grad = None\n",
        "6. repeat 4-5"
      ],
      "metadata": {
        "id": "sctfnPlCITvl"
      }
    },
    {
      "cell_type": "code",
      "source": [
        "# tensor is a number/list/matrix; which is from (py)torch.tensor\n",
        "from torch import tensor, arange\n",
        "import matplotlib.pyplot as plt\n",
        "print(tensor(5))\n",
        "print(tensor([1,2,3, 4, 5]))\n"
      ],
      "metadata": {
        "colab": {
          "base_uri": "https://localhost:8080/"
        },
        "id": "tpEk1iRi3_Ey",
        "outputId": "9d6bf57f-460f-4c31-92c2-5fb731365745"
      },
      "execution_count": null,
      "outputs": [
        {
          "output_type": "stream",
          "name": "stdout",
          "text": [
            "tensor(5)\n",
            "tensor([1, 2, 3, 4, 5])\n"
          ]
        }
      ]
    },
    {
      "cell_type": "code",
      "execution_count": null,
      "metadata": {
        "colab": {
          "base_uri": "https://localhost:8080/"
        },
        "id": "xf_3BKs814kO",
        "outputId": "56c7f307-05f6-416c-d9ed-dccf1b578cc5"
      },
      "outputs": [
        {
          "output_type": "stream",
          "name": "stdout",
          "text": [
            "xt, tensor([ 1.,  2.,  3.,  4.,  5.,  6.,  7.,  8.,  9., 10., 11., 12., 13., 14.,\n",
            "        15., 16., 17., 18., 19., 20.], requires_grad=True)\n",
            "yt, tensor([   5.,   20.,   45.,   80.,  125.,  180.,  245.,  320.,  405.,  500.,\n",
            "         605.,  720.,  845.,  980., 1125., 1280., 1445., 1620., 1805., 2000.],\n",
            "       grad_fn=<MulBackward0>)\n",
            "tensor([ 10.,  20.,  30.,  40.,  50.,  60.,  70.,  80.,  90., 100., 110., 120.,\n",
            "        130., 140., 150., 160., 170., 180., 190., 200.])\n"
          ]
        }
      ],
      "source": [
        "# how does computer do calculus/calculate gradients:\n",
        "def y(x, sum = True):\n",
        "  # example function: y = 5x^2\n",
        "  # derivative y' = 2*5x = 10x\n",
        "  ys = (5 * x * x)\n",
        "  if sum: return ys.sum() # this sum() is only for how pytorch's gradient calculation works with multiple x values\n",
        "  else: return ys\n",
        "# arange: a list of numbers\n",
        "# float: gradient calculation needs to be a float (decimal) number\n",
        "# tensor.requires_grad_(): enables gradient calculation\n",
        "xt = arange(1, 21).float().requires_grad_()\n",
        "print('xt,', xt)\n",
        "# to calculate any math function: first make a tensor like tensor().requires_grad_(); \n",
        "print('yt,', y(xt, sum = False))\n",
        "yt = y(xt, sum = True)\n",
        "# then call that function as f(that_tensor).backward; (back propagation)\n",
        "yt.backward()\n",
        "# lastly call tensor.grad\n",
        "print(xt.grad)"
      ]
    },
    {
      "cell_type": "code",
      "source": [
        "# initial data: i'll just use x from -20 to 20 with 5x^2\n",
        "xs = arange(-20., 21.)\n",
        "ys = y(xs, sum = False)\n",
        "#print(xs, ys)\n",
        "plt.scatter(xs, ys)"
      ],
      "metadata": {
        "colab": {
          "base_uri": "https://localhost:8080/",
          "height": 284
        },
        "id": "kLmRChPj9_wk",
        "outputId": "20b81a6d-a66e-482f-cb36-13358149a2ee"
      },
      "execution_count": null,
      "outputs": [
        {
          "output_type": "execute_result",
          "data": {
            "text/plain": [
              "<matplotlib.collections.PathCollection at 0x7fc45156e190>"
            ]
          },
          "metadata": {},
          "execution_count": 244
        },
        {
          "output_type": "display_data",
          "data": {
            "text/plain": [
              "<Figure size 432x288 with 1 Axes>"
            ],
            "image/png": "[encoded data removed]"
          },
          "metadata": {
            "needs_background": "light"
          }
        }
      ]
    },
    {
      "cell_type": "code",
      "source": [
        "def approximation_func(x, params):\n",
        "  # say im approximating with y = ax^2 + bx + c\n",
        "  return params[0] * x * x + params[1] * x + params[2]\n",
        "\n",
        "# start with some guesses (typically randomized)\n",
        "params = tensor([1.,2.,3.]).requires_grad_()\n",
        "ax = plt.subplots()[1]\n",
        "ax.scatter(xs, ys)\n",
        "ax.scatter(xs, approximation_func(xs, params).detach().numpy())# w/o .detach().numpy() gives an error asking 4 .detach().numpy()"
      ],
      "metadata": {
        "colab": {
          "base_uri": "https://localhost:8080/",
          "height": 284
        },
        "id": "VcN6zDOjDC-q",
        "outputId": "c7b4a90a-87b3-451e-872d-32fd94d2169b"
      },
      "execution_count": null,
      "outputs": [
        {
          "output_type": "execute_result",
          "data": {
            "text/plain": [
              "<matplotlib.collections.PathCollection at 0x7fc4510defd0>"
            ]
          },
          "metadata": {},
          "execution_count": 255
        },
        {
          "output_type": "display_data",
          "data": {
            "text/plain": [
              "<Figure size 432x288 with 1 Axes>"
            ],
            "image/png": "[encoded data removed]"
          },
          "metadata": {
            "needs_background": "light"
          }
        }
      ]
    },
    {
      "cell_type": "code",
      "source": [
        "# a way to evaluate how far off is the approximation to the data, use squared error: the sum of each element difference squared (to remove signs)\n",
        "def se(y1, y2): return ((y1-y2)**2).sum()#.mean()\n",
        "loss = se(approximation_func(xs, params), ys)\n",
        "print('loss,',loss)\n",
        "loss.backward()\n",
        "print('gradient,',params.grad)"
      ],
      "metadata": {
        "colab": {
          "base_uri": "https://localhost:8080/"
        },
        "id": "3mf20u2dDRst",
        "outputId": "8774c04f-2825-4ce8-bd3f-13dec680c836"
      },
      "execution_count": null,
      "outputs": [
        {
          "output_type": "stream",
          "name": "stdout",
          "text": [
            "loss, tensor(23010880., grad_fn=<SumBackward0>)\n",
            "gradient, tensor([-11528216.,     22960.,    -45674.])\n"
          ]
        }
      ]
    },
    {
      "cell_type": "code",
      "source": [
        "learning_rate = 1e-7\n",
        "params.data -= params.grad * learning_rate\n",
        "print('new param,',params.data)\n",
        "params.grad = None\n",
        "ax = plt.subplots()[1]\n",
        "ax.scatter(xs, ys)\n",
        "ax.scatter(xs, approximation_func(xs, params).detach().numpy())# w/o .detach().numpy() gives an error asking 4 .detach().numpy()"
      ],
      "metadata": {
        "colab": {
          "base_uri": "https://localhost:8080/",
          "height": 303
        },
        "id": "7rzLioJoIFAV",
        "outputId": "d2ddb659-97cb-429f-d626-995294d3ba78"
      },
      "execution_count": null,
      "outputs": [
        {
          "output_type": "stream",
          "name": "stdout",
          "text": [
            "new param, tensor([2.1528, 1.9977, 3.0046])\n"
          ]
        },
        {
          "output_type": "execute_result",
          "data": {
            "text/plain": [
              "<matplotlib.collections.PathCollection at 0x7fc45107d4d0>"
            ]
          },
          "metadata": {},
          "execution_count": 257
        },
        {
          "output_type": "display_data",
          "data": {
            "text/plain": [
              "<Figure size 432x288 with 1 Axes>"
            ],
            "image/png": "[encoded data removed]"
          },
          "metadata": {
            "needs_background": "light"
          }
        }
      ]
    },
    {
      "cell_type": "code",
      "source": [
        "# combine the two cells above and run a couple of times:\n",
        "\n",
        "loss = se(approximation_func(xs, params), ys)\n",
        "print('loss,',loss)\n",
        "loss.backward()\n",
        "print('gradient,',params.grad)\n",
        "params.data -= params.grad * learning_rate\n",
        "params.grad = None\n",
        "print('new param,',params.data)\n",
        "ax = plt.subplots()[1]\n",
        "ax.scatter(xs, ys)\n",
        "ax.scatter(xs, approximation_func(xs, params).detach().numpy())# w/o .detach().numpy() gives an error asking 4 .detach().numpy()"
      ],
      "metadata": {
        "colab": {
          "base_uri": "https://localhost:8080/",
          "height": 340
        },
        "id": "RzRrndPgJQMG",
        "outputId": "0089a25b-e56e-4a70-b693-bd3ea5d1c6b5"
      },
      "execution_count": null,
      "outputs": [
        {
          "output_type": "stream",
          "name": "stdout",
          "text": [
            "loss, tensor(143.1295, grad_fn=<SumBackward0>)\n",
            "gradient, tensor([-1.3216e+00,  3.3569e-04,  1.0208e+02])\n",
            "new param, tensor([4.9889e+00, 1.0502e-06, 2.8040e+00])\n"
          ]
        },
        {
          "output_type": "execute_result",
          "data": {
            "text/plain": [
              "<matplotlib.collections.PathCollection at 0x7fc450e778d0>"
            ]
          },
          "metadata": {},
          "execution_count": 261
        },
        {
          "output_type": "display_data",
          "data": {
            "text/plain": [
              "<Figure size 432x288 with 1 Axes>"
            ],
            "image/png": "[encoded data removed]"
          },
          "metadata": {
            "needs_background": "light"
          }
        }
      ]
    },
    {
      "cell_type": "code",
      "source": [
        "# run 10k times:\n",
        "for i in range(10000):\n",
        "  loss = se(approximation_func(xs, params), ys)\n",
        "  #print(loss)\n",
        "  loss.backward()\n",
        "  #print(params.grad)\n",
        "  params.data -= params.grad * learning_rate\n",
        "  params.grad = None\n",
        "print('loss,',loss)\n",
        "print('new param,',params.data)\n",
        "ax = plt.subplots()[1]\n",
        "ax.scatter(xs, ys)\n",
        "ax.scatter(xs, approximation_func(xs, params).detach().numpy())# w/o .detach().numpy() gives an error asking 4 .detach().numpy()"
      ],
      "metadata": {
        "colab": {
          "base_uri": "https://localhost:8080/",
          "height": 321
        },
        "id": "wZN7hHP9KA0E",
        "outputId": "91191fa4-cb6a-44d6-eb7e-c90c6111e3fc"
      },
      "execution_count": null,
      "outputs": [
        {
          "output_type": "stream",
          "name": "stdout",
          "text": [
            "loss, tensor(143.1308, grad_fn=<SumBackward0>)\n",
            "new param, tensor([4.9889e+00, 1.0502e-06, 2.8040e+00])\n"
          ]
        },
        {
          "output_type": "execute_result",
          "data": {
            "text/plain": [
              "<matplotlib.collections.PathCollection at 0x7fc450eff590>"
            ]
          },
          "metadata": {},
          "execution_count": 260
        },
        {
          "output_type": "display_data",
          "data": {
            "text/plain": [
              "<Figure size 432x288 with 1 Axes>"
            ],
            "image/png": "[encoded data removed]"
          },
          "metadata": {
            "needs_background": "light"
          }
        }
      ]
    },
    {
      "cell_type": "markdown",
      "source": [
        "to re-start, go up 6 cells above\n",
        "\n",
        "questions:\n",
        "\n",
        "we can see a is almost right (4.9885 to 5); b is almost right (very small 1e-5 to 0); c is quite not (2.9 to 0). how do i make c right/where could go wrong?\n",
        "\n",
        "what happens if i use a wrong approximation function (linear or cubic?)\n",
        "\n",
        "what happens if i use a too large/small gradient adjustment rate (called learning rate)?\n",
        "*   too high: it will fly off\n",
        "*   too low: X times more loops\n",
        "\n",
        "what happens if initial guesses are way off?\n",
        "\n",
        "when is a good time to stop?\n",
        "\n",
        "can you make this work with mean squard error instead of sum squared error?"
      ],
      "metadata": {
        "id": "Z5FS1X5hKVBa"
      }
    },
    {
      "cell_type": "code",
      "source": [
        ""
      ],
      "metadata": {
        "id": "sNWT934aKUc7"
      },
      "execution_count": null,
      "outputs": []
    }
  ]
}